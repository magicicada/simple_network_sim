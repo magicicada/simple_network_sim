{
 "cells": [
  {
   "cell_type": "code",
   "execution_count": 8,
   "metadata": {},
   "outputs": [],
   "source": [
    "import pandas as pd\n",
    "import sys\n",
    "\n",
    "sys.path.append('..\\..')\n",
    "\n",
    "from simple_network_sim import data\n",
    "from simple_network_sim import network_of_populations as ss\n",
    "from simple_network_sim.sampleUseOfModel import runSimulation\n",
    "\n",
    "stochastic_mode = True\n",
    "trials = 1\n",
    "\n",
    "with data.Datastore(\"../../config.yaml\") as store:\n",
    "    network = ss.createNetworkOfPopulation(\n",
    "        store.read_table(\"human/compartment-transition\"),\n",
    "        store.read_table(\"human/population\"),\n",
    "        store.read_table(\"human/commutes\"),\n",
    "        store.read_table(\"human/mixing-matrix\"),\n",
    "        store.read_table(\"human/infectious-compartments\"),\n",
    "        store.read_table(\"human/infection-probability\"),\n",
    "        store.read_table(\"human/initial-infections\"),\n",
    "        pd.DataFrame([trials], columns=[\"Value\"]),\n",
    "        store.read_table(\"human/movement-multipliers\"),\n",
    "        pd.DataFrame([stochastic_mode], columns=[\"Value\"]),\n",
    "        store.read_table(\"human/random-seed\"),\n",
    "    )"
   ]
  },
  {
   "cell_type": "code",
   "execution_count": 8,
   "metadata": {},
   "outputs": [],
   "source": [
    "results = runSimulation(network, max_time=200)"
   ]
  },
  {
   "cell_type": "code",
   "execution_count": 9,
   "metadata": {},
   "outputs": [
    {
     "data": {
      "text/plain": [
       "[       time       node     age state    total\n",
       " 0         0  S08000015     70+     S  58683.0\n",
       " 1         0  S08000015     70+     E      0.0\n",
       " 2         0  S08000015     70+     A      0.0\n",
       " 3         0  S08000015     70+     I      0.0\n",
       " 4         0  S08000015     70+     H      0.0\n",
       " ...     ...        ...     ...   ...      ...\n",
       " 59089   200  S08000032  [0,17)     A     13.0\n",
       " 59090   200  S08000032  [0,17)     I      0.0\n",
       " 59091   200  S08000032  [0,17)     H      1.0\n",
       " 59092   200  S08000032  [0,17)     R  20259.0\n",
       " 59093   200  S08000032  [0,17)     D    734.0\n",
       " \n",
       " [59094 rows x 5 columns]]"
      ]
     },
     "execution_count": 9,
     "metadata": {},
     "output_type": "execute_result"
    }
   ],
   "source": [
    "results"
   ]
  }
 ],
 "metadata": {
  "kernelspec": {
   "display_name": "Python 3",
   "language": "python",
   "name": "python3"
  },
  "language_info": {
   "codemirror_mode": {
    "name": "ipython",
    "version": 3
   },
   "file_extension": ".py",
   "mimetype": "text/x-python",
   "name": "python",
   "nbconvert_exporter": "python",
   "pygments_lexer": "ipython3",
   "version": "3.7.7"
  }
 },
 "nbformat": 4,
 "nbformat_minor": 4
}
